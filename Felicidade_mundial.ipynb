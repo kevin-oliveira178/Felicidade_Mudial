{
  "nbformat": 4,
  "nbformat_minor": 0,
  "metadata": {
    "colab": {
      "provenance": [],
      "mount_file_id": "10vUbHixk9-hyMXNMEGXvYcrLKHCCBwnt",
      "authorship_tag": "ABX9TyOOephXO6qgIeiS/zkNqAm5",
      "include_colab_link": true
    },
    "kernelspec": {
      "name": "python3",
      "display_name": "Python 3"
    },
    "language_info": {
      "name": "python"
    }
  },
  "cells": [
    {
      "cell_type": "markdown",
      "metadata": {
        "id": "view-in-github",
        "colab_type": "text"
      },
      "source": [
        "<a href=\"https://colab.research.google.com/github/kevin-oliveira178/Felicidade_Mudial/blob/main/Felicidade_mundial.ipynb\" target=\"_parent\"><img src=\"https://colab.research.google.com/assets/colab-badge.svg\" alt=\"Open In Colab\"/></a>"
      ]
    },
    {
      "cell_type": "markdown",
      "source": [
        "# importação de bibliotecas"
      ],
      "metadata": {
        "id": "bItHjOUrE1Ms"
      }
    },
    {
      "cell_type": "code",
      "source": [
        "!pip install pycountry-convert\n",
        "import pandas as pd\n",
        "import numpy as np\n",
        "import matplotlib.pyplot as plt\n",
        "import seaborn as sns\n",
        "import pycountry_convert as pc\n",
        "import numpy as np\n",
        "from scipy import stats\n",
        "\n",
        "\n",
        "\n"
      ],
      "metadata": {
        "colab": {
          "base_uri": "https://localhost:8080/"
        },
        "id": "P0zmC9rJFmVN",
        "outputId": "0d745ee4-9c2e-4575-d0d5-65ac0608b653"
      },
      "execution_count": 95,
      "outputs": [
        {
          "output_type": "stream",
          "name": "stdout",
          "text": [
            "Requirement already satisfied: pycountry-convert in /usr/local/lib/python3.11/dist-packages (0.7.2)\n",
            "Requirement already satisfied: pprintpp>=0.3.0 in /usr/local/lib/python3.11/dist-packages (from pycountry-convert) (0.4.0)\n",
            "Requirement already satisfied: pycountry>=16.11.27.1 in /usr/local/lib/python3.11/dist-packages (from pycountry-convert) (24.6.1)\n",
            "Requirement already satisfied: pytest>=3.4.0 in /usr/local/lib/python3.11/dist-packages (from pycountry-convert) (8.4.1)\n",
            "Requirement already satisfied: pytest-mock>=1.6.3 in /usr/local/lib/python3.11/dist-packages (from pycountry-convert) (3.14.1)\n",
            "Requirement already satisfied: pytest-cov>=2.5.1 in /usr/local/lib/python3.11/dist-packages (from pycountry-convert) (6.2.1)\n",
            "Requirement already satisfied: repoze.lru>=0.7 in /usr/local/lib/python3.11/dist-packages (from pycountry-convert) (0.7)\n",
            "Requirement already satisfied: wheel>=0.30.0 in /usr/local/lib/python3.11/dist-packages (from pycountry-convert) (0.45.1)\n",
            "Requirement already satisfied: iniconfig>=1 in /usr/local/lib/python3.11/dist-packages (from pytest>=3.4.0->pycountry-convert) (2.1.0)\n",
            "Requirement already satisfied: packaging>=20 in /usr/local/lib/python3.11/dist-packages (from pytest>=3.4.0->pycountry-convert) (25.0)\n",
            "Requirement already satisfied: pluggy<2,>=1.5 in /usr/local/lib/python3.11/dist-packages (from pytest>=3.4.0->pycountry-convert) (1.6.0)\n",
            "Requirement already satisfied: pygments>=2.7.2 in /usr/local/lib/python3.11/dist-packages (from pytest>=3.4.0->pycountry-convert) (2.19.2)\n",
            "Requirement already satisfied: coverage>=7.5 in /usr/local/lib/python3.11/dist-packages (from coverage[toml]>=7.5->pytest-cov>=2.5.1->pycountry-convert) (7.10.1)\n"
          ]
        }
      ]
    },
    {
      "cell_type": "markdown",
      "source": [
        "# tratamento dos dados"
      ],
      "metadata": {
        "id": "VTcf5QvaDwXM"
      }
    },
    {
      "cell_type": "markdown",
      "source": [],
      "metadata": {
        "id": "tpbhJfUND0Cp"
      }
    },
    {
      "cell_type": "code",
      "execution_count": 96,
      "metadata": {
        "id": "2xLaPljSCoux"
      },
      "outputs": [],
      "source": [
        "\n",
        "url = \"https://raw.githubusercontent.com/kevin-oliveira178/Felicidade_Mudial/refs/heads/main/2019.csv\"\n",
        "df = pd.read_csv(url)\n",
        "\n",
        "colunas = list(df.columns)"
      ]
    },
    {
      "cell_type": "code",
      "source": [
        "#criação das colunas adicionais\n",
        "\n",
        "#coluna Score_Category\n",
        "score = df['Score']\n",
        "\n",
        "# calculo dos tercis\n",
        "tercis = sc.quantile([0.3333, 0.6667])\n",
        "tercil1 = tercis[0.3333]\n",
        "tercil2 = tercis[0.6667]"
      ],
      "metadata": {
        "id": "XCd01BPTD3Om"
      },
      "execution_count": 97,
      "outputs": []
    },
    {
      "cell_type": "code",
      "source": [
        "#adicionando a coluna\n",
        "def categorizar_score(score):\n",
        "  new_colum = []\n",
        "  for i in score:\n",
        "      if i <= tercil1:\n",
        "          new_colum.append(\"Baixo\")\n",
        "      elif i > tercil1 and i <= tercil2:\n",
        "          new_colum.append(\"Médio\")\n",
        "      elif i > tercil2:\n",
        "          new_colum.append(\"alto\")\n",
        "  return new_colum\n",
        "\n",
        "df[\"Score_Category\"]= categorizar_score(df[\"Score\"])\n",
        "\n",
        "\n",
        "\n",
        ""
      ],
      "metadata": {
        "id": "63USZuz7O5gn"
      },
      "execution_count": 98,
      "outputs": []
    },
    {
      "cell_type": "code",
      "source": [
        "#criação da tab_Score_category de frequência da variável Score_Category\n",
        "\n",
        "tab_Score_category = df[\"Score_Category\"].value_counts()\n",
        "\n",
        "\n"
      ],
      "metadata": {
        "id": "54wEvn1pP_3A"
      },
      "execution_count": 99,
      "outputs": []
    },
    {
      "cell_type": "code",
      "source": [
        "#definindo a função que cria a coluna de continentes\n",
        "\n",
        "\n",
        "\n",
        "\n",
        "def add_continent_column(df, country_col):\n",
        "    def get_continent(country):\n",
        "        try:\n",
        "            country_code = pc.country_name_to_country_alpha2(country, cn_name_format=\"default\")\n",
        "            continent_code = pc.country_alpha2_to_continent_code(country_code)\n",
        "            continent_name = {\n",
        "                'AF': 'Africa',\n",
        "                'NA': 'North America',\n",
        "                'OC': 'Oceania',\n",
        "                'AN': 'Antarctica',\n",
        "                'AS': 'Asia',\n",
        "                'EU': 'Europe',\n",
        "                'SA': 'South America'\n",
        "            }.get(continent_code, 'Unknown')\n",
        "            return continent_name\n",
        "        except:\n",
        "            return 'Unknown'\n",
        "\n",
        "    df['continent'] = df[country_col].apply(get_continent)\n",
        "    return df\n"
      ],
      "metadata": {
        "id": "JocBgi9MeVb4"
      },
      "execution_count": 100,
      "outputs": []
    },
    {
      "cell_type": "code",
      "source": [
        "#chmando a função\n",
        "df = add_continent_column(df, 'Country or region')"
      ],
      "metadata": {
        "id": "mxhAMrQcffoB"
      },
      "execution_count": 101,
      "outputs": []
    },
    {
      "cell_type": "markdown",
      "source": [
        "# parte 1\n"
      ],
      "metadata": {
        "id": "k-ntfxwUEsva"
      }
    },
    {
      "cell_type": "code",
      "source": [
        "#descrição da variável score\n",
        "score = df[\"Score\"]\n",
        "\n",
        "# Descrição da variável score\n",
        "media = score.mean()\n",
        "moda = score.mode()\n",
        "mediana = score.median()\n",
        "\n",
        "# medidas de dispersão\n",
        "amplitude = score.max() - score.min()\n",
        "desvio_medio = np.mean(np.abs(score - score.mean()))\n",
        "variancia = score.var(ddof=1)         # ddof=1 → variância amostral\n",
        "desvio_padrao = score.std(ddof=1)\n",
        "coef_variacao = (desvio_padrao / score.mean()) * 100\n",
        "iqr = score.quantile(0.75) - score.quantile(0.25)\n",
        "quartil_1 = score.quantile(0.25)\n",
        "quartil_2 = score.quantile(0.5)\n",
        "quartil_3 = score.quantile(0.75)\n"
      ],
      "metadata": {
        "id": "xYSg5fwmi5JQ"
      },
      "execution_count": 102,
      "outputs": []
    },
    {
      "cell_type": "markdown",
      "source": [
        "leitura dos coeficientes de disperção"
      ],
      "metadata": {
        "id": "cDCIDm7xm3rR"
      }
    },
    {
      "cell_type": "code",
      "source": [
        "print('\\n média \\n', media,\n",
        "      '\\nmoda\\n',moda,\n",
        "      '\\nmediana\\n',mediana,\n",
        "      '\\namplitude total\\n',amplitude,\n",
        "      '\\ndesvio padrão/n',desvio_medio,\n",
        "      '\\nvariancia\\n',variancia,\n",
        "      '\\ndesvio padrão',desvio_padrao,\n",
        "      '\\ncoef de variação\\n',coef_variacao,\n",
        "      '\\namplitude interquartilica\\n',iqr,\n",
        "      '\\nprimeiro quartil\\n',quartil_1,\n",
        "      '\\nsegundo quartil\\n',quartil_2,\n",
        "      '\\nterceiro quartil\\n',quartil_3)\n"
      ],
      "metadata": {
        "colab": {
          "base_uri": "https://localhost:8080/"
        },
        "id": "9QyMLzY0i4_o",
        "outputId": "a200f422-dbc3-4e44-c80c-7e5aa0188345"
      },
      "execution_count": 103,
      "outputs": [
        {
          "output_type": "stream",
          "name": "stdout",
          "text": [
            "\n",
            " média \n",
            " 5.407096153846155 \n",
            "moda\n",
            " 0    5.208\n",
            "Name: Score, dtype: float64 \n",
            "mediana\n",
            " 5.3795 \n",
            "amplitude total\n",
            " 4.916 \n",
            "desvio padrão/n 0.9166486686390534 \n",
            "variancia\n",
            " 1.239035842307692 \n",
            "desvio padrão 1.1131198687956712 \n",
            "coef de variação\n",
            " 20.586278422363378 \n",
            "amplitude interquartilica\n",
            " 1.6399999999999997 \n",
            "primeiro quartil\n",
            " 4.5445 \n",
            "segundo quartil\n",
            " 5.3795 \n",
            "terceiro quartil\n",
            " 6.1845\n"
          ]
        }
      ]
    },
    {
      "cell_type": "markdown",
      "source": [
        "construção do histograma e box plot\n",
        "\n"
      ],
      "metadata": {
        "id": "nCUYJlkjpROj"
      }
    },
    {
      "cell_type": "markdown",
      "source": [],
      "metadata": {
        "id": "XyMy9KX7i4r1"
      }
    },
    {
      "cell_type": "code",
      "source": [
        "# Paleta personalizada\n",
        "colors = [\"#ff6b6b\", \"#feca57\", \"#48dbfb\", \"#1dd1a1\", \"#5f27cd\"]\n",
        "background_color = \"#ffffff\"\n",
        "text_color = \"#222f3e\"\n",
        "accent_color = \"#10ac84\"\n",
        "\n",
        "# Função para definir número de classes pelo método de Sturges\n",
        "def sturges_classes(series):\n",
        "    n = len(series)\n",
        "    return int(np.ceil(1 + 3.3 * np.log10(n)))\n",
        "\n",
        "# Etapa 1: Criar classes (agrupamento)\n",
        "k = sturges_classes(score)\n",
        "min_val = score.min()\n",
        "max_val = score.max()\n",
        "bins = np.linspace(min_val, max_val, k + 1)\n",
        "\n",
        "# Etapa 2: Criar tabela de frequência\n",
        "df_freq = pd.DataFrame({\n",
        "    'classe_inferior': bins[:-1],\n",
        "    'classe_superior': bins[1:]\n",
        "})\n",
        "df_freq['amplitude'] = df_freq['classe_superior'] - df_freq['classe_inferior']\n",
        "df_freq['ponto_medio'] = (df_freq['classe_inferior'] + df_freq['classe_superior']) / 2\n",
        "\n",
        "# Contar quantos valores caem em cada intervalo (classe)\n",
        "df_freq['frequencia'] = pd.cut(score, bins=bins, include_lowest=True).value_counts(sort=False).values\n",
        "df_freq['fac'] = df_freq['frequencia'].cumsum()\n",
        "\n",
        "# Etapa 3: Média agrupada\n",
        "media_agrupada = (df_freq['frequencia'] * df_freq['ponto_medio']).sum() / df_freq['frequencia'].sum()\n",
        "\n",
        "# Etapa 4: Mediana agrupada\n",
        "N = df_freq['frequencia'].sum()\n",
        "N2 = N / 2\n",
        "classe_mediana_idx = df_freq[df_freq['fac'] >= N2].index[0]\n",
        "L = df_freq.loc[classe_mediana_idx, 'classe_inferior']\n",
        "F = df_freq.loc[classe_mediana_idx - 1, 'fac'] if classe_mediana_idx > 0 else 0\n",
        "f_m = df_freq.loc[classe_mediana_idx, 'frequencia']\n",
        "h = df_freq.loc[classe_mediana_idx, 'amplitude']\n",
        "mediana_agrupada = L + ((N2 - F) / f_m) * h\n",
        "\n",
        "# Etapa 5: Moda agrupada (Czuber)\n",
        "classe_modal_idx = df_freq['frequencia'].idxmax()\n",
        "f1 = df_freq.loc[classe_modal_idx, 'frequencia']\n",
        "f0 = df_freq.loc[classe_modal_idx - 1, 'frequencia'] if classe_modal_idx > 0 else 0\n",
        "f2 = df_freq.loc[classe_modal_idx + 1, 'frequencia'] if classe_modal_idx < len(df_freq) - 1 else 0\n",
        "L_modal = df_freq.loc[classe_modal_idx, 'classe_inferior']\n",
        "h_modal = df_freq.loc[classe_modal_idx, 'amplitude']\n",
        "moda_agrupada = L_modal + ((f1 - f0) / ((f1 - f0) + (f1 - f2))) * h_modal if (f1 - f0 + f1 - f2) != 0 else np.nan\n",
        "\n",
        "# Etapa 6: Plotar o histograma com linhas das medidas\n",
        "plt.figure(figsize=(10, 5))\n",
        "sns.set_style(\"whitegrid\", {\"axes.facecolor\": background_color})\n",
        "sns.set_palette(sns.color_palette(colors))\n",
        "\n",
        "# Histograma com os mesmos bins usados no agrupamento\n",
        "sns.histplot(score, bins=bins, edgecolor='black', alpha=0.8)\n",
        "\n",
        "# Linhas verticais das medidas agrupadas\n",
        "plt.axvline(media_agrupada, color='#ff6b6b', linestyle='--', linewidth=2, label=f'Média agrupada: {media_agrupada:.2f}')\n",
        "plt.axvline(mediana_agrupada, color='#1dd1a1', linestyle='-.', linewidth=2, label=f'Mediana agrupada: {mediana_agrupada:.2f}')\n",
        "if not np.isnan(moda_agrupada):\n",
        "    plt.axvline(moda_agrupada, color='#5f27cd', linestyle=':', linewidth=2, label=f'Moda agrupada: {moda_agrupada:.2f}')\n",
        "\n",
        "# Estilo e legendas\n",
        "plt.title(f'Histograma da Felicidade (Score) com Tendência Central (Dados Agrupados)', color=text_color, fontsize=14)\n",
        "plt.xlabel('Score de Felicidade', color=accent_color)\n",
        "plt.ylabel('Frequência', color=accent_color)\n",
        "plt.xticks(color=text_color)\n",
        "plt.yticks(color=text_color)\n",
        "plt.legend()\n",
        "plt.gca().spines['top'].set_visible(False)\n",
        "plt.gca().spines['right'].set_visible(False)\n",
        "plt.gca().spines['left'].set_color(text_color)\n",
        "plt.gca().spines['bottom'].set_color(text_color)\n",
        "plt.grid(True, axis='y', linestyle='--', alpha=0.7)\n",
        "plt.gcf().set_facecolor(background_color)\n",
        "plt.show()"
      ],
      "metadata": {
        "colab": {
          "base_uri": "https://localhost:8080/",
          "height": 489
        },
        "id": "WAro806SqpNj",
        "outputId": "51b9b0e5-393c-4ed9-97e8-734efa25d781"
      },
      "execution_count": 106,
      "outputs": [
        {
          "output_type": "display_data",
          "data": {
            "text/plain": [
              "<Figure size 1000x500 with 1 Axes>"
            ],
            "image/png": "[encoded data removed]"
          },
          "metadata": {}
        }
      ]
    },
    {
      "cell_type": "markdown",
      "source": [
        "# parte 2"
      ],
      "metadata": {
        "id": "1L3HLF97EZo6"
      }
    },
    {
      "cell_type": "markdown",
      "source": [
        "# parte 3"
      ],
      "metadata": {
        "id": "7r-QcOI_Ekgp"
      }
    }
  ]
}