{
  "nbformat": 4,
  "nbformat_minor": 0,
  "metadata": {
    "colab": {
      "provenance": [],
      "include_colab_link": true
    },
    "kernelspec": {
      "name": "python3",
      "display_name": "Python 3"
    },
    "language_info": {
      "name": "python"
    }
  },
  "cells": [
    {
      "cell_type": "markdown",
      "metadata": {
        "id": "view-in-github",
        "colab_type": "text"
      },
      "source": [
        "<a href=\"https://colab.research.google.com/github/kevin-oliveira178/Felicidade_Mundial/blob/main/Felicidade_mundial.ipynb\" target=\"_parent\"><img src=\"https://colab.research.google.com/assets/colab-badge.svg\" alt=\"Open In Colab\"/></a>"
      ]
    },
    {
      "cell_type": "markdown",
      "source": [
        "# importação de bibliotecas"
      ],
      "metadata": {
        "id": "bItHjOUrE1Ms"
      }
    },
    {
      "cell_type": "code",
      "source": [
        "!pip install pycountry-convert\n",
        "import pandas as pd\n",
        "import numpy as np\n",
        "import matplotlib.pyplot as plt\n",
        "import seaborn as sns\n",
        "import pycountry_convert as pc\n",
        "import numpy as np\n",
        "from scipy import stats\n",
        "\n",
        "\n",
        "\n"
      ],
      "metadata": {
        "colab": {
          "base_uri": "https://localhost:8080/"
        },
        "id": "P0zmC9rJFmVN",
        "outputId": "888e0ae4-fa14-4892-d0e6-931310f74cc9",
        "collapsed": true
      },
      "execution_count": 20,
      "outputs": [
        {
          "output_type": "stream",
          "name": "stdout",
          "text": [
            "Requirement already satisfied: pycountry-convert in /usr/local/lib/python3.11/dist-packages (0.7.2)\n",
            "Requirement already satisfied: pprintpp>=0.3.0 in /usr/local/lib/python3.11/dist-packages (from pycountry-convert) (0.4.0)\n",
            "Requirement already satisfied: pycountry>=16.11.27.1 in /usr/local/lib/python3.11/dist-packages (from pycountry-convert) (24.6.1)\n",
            "Requirement already satisfied: pytest>=3.4.0 in /usr/local/lib/python3.11/dist-packages (from pycountry-convert) (8.4.1)\n",
            "Requirement already satisfied: pytest-mock>=1.6.3 in /usr/local/lib/python3.11/dist-packages (from pycountry-convert) (3.14.1)\n",
            "Requirement already satisfied: pytest-cov>=2.5.1 in /usr/local/lib/python3.11/dist-packages (from pycountry-convert) (6.2.1)\n",
            "Requirement already satisfied: repoze.lru>=0.7 in /usr/local/lib/python3.11/dist-packages (from pycountry-convert) (0.7)\n",
            "Requirement already satisfied: wheel>=0.30.0 in /usr/local/lib/python3.11/dist-packages (from pycountry-convert) (0.45.1)\n",
            "Requirement already satisfied: iniconfig>=1 in /usr/local/lib/python3.11/dist-packages (from pytest>=3.4.0->pycountry-convert) (2.1.0)\n",
            "Requirement already satisfied: packaging>=20 in /usr/local/lib/python3.11/dist-packages (from pytest>=3.4.0->pycountry-convert) (25.0)\n",
            "Requirement already satisfied: pluggy<2,>=1.5 in /usr/local/lib/python3.11/dist-packages (from pytest>=3.4.0->pycountry-convert) (1.6.0)\n",
            "Requirement already satisfied: pygments>=2.7.2 in /usr/local/lib/python3.11/dist-packages (from pytest>=3.4.0->pycountry-convert) (2.19.2)\n",
            "Requirement already satisfied: coverage>=7.5 in /usr/local/lib/python3.11/dist-packages (from coverage[toml]>=7.5->pytest-cov>=2.5.1->pycountry-convert) (7.10.1)\n"
          ]
        }
      ]
    },
    {
      "cell_type": "markdown",
      "source": [
        "# tratamento dos dados"
      ],
      "metadata": {
        "id": "VTcf5QvaDwXM"
      }
    },
    {
      "cell_type": "markdown",
      "source": [],
      "metadata": {
        "id": "tpbhJfUND0Cp"
      }
    },
    {
      "cell_type": "code",
      "execution_count": 21,
      "metadata": {
        "id": "2xLaPljSCoux"
      },
      "outputs": [],
      "source": [
        "\n",
        "url = \"https://raw.githubusercontent.com/kevin-oliveira178/Felicidade_Mudial/refs/heads/main/2019.csv\"\n",
        "df = pd.read_csv(url)\n",
        "\n",
        "colunas = list(df.columns)"
      ]
    },
    {
      "cell_type": "code",
      "source": [
        "score = df[\"Score\"]\n",
        "tercis = score.quantile([0.3333, 0.6667])\n",
        "tercil1 = tercis[0.3333]\n",
        "tercil2 = tercis[0.6667]\n"
      ],
      "metadata": {
        "id": "XCd01BPTD3Om"
      },
      "execution_count": 22,
      "outputs": []
    },
    {
      "cell_type": "code",
      "source": [
        "#adicionando a coluna\n",
        "def categorizar_score(score):\n",
        "  new_colum = []\n",
        "  for i in score:\n",
        "      if i <= tercil1:\n",
        "          new_colum.append(\"Baixo\")\n",
        "      elif i > tercil1 and i <= tercil2:\n",
        "          new_colum.append(\"Médio\")\n",
        "      elif i > tercil2:\n",
        "          new_colum.append(\"alto\")\n",
        "  return new_colum\n",
        "\n",
        "df[\"Score_Category\"]= categorizar_score(df[\"Score\"])"
      ],
      "metadata": {
        "id": "63USZuz7O5gn"
      },
      "execution_count": 23,
      "outputs": []
    },
    {
      "cell_type": "code",
      "source": [
        "#criação da tab_Score_category de frequência da variável Score_Category\n",
        "\n",
        "tab_Score_category = df[\"Score_Category\"].value_counts()"
      ],
      "metadata": {
        "id": "54wEvn1pP_3A"
      },
      "execution_count": 24,
      "outputs": []
    },
    {
      "cell_type": "code",
      "source": [
        "#definindo a função que cria a coluna de continentes\n",
        "\n",
        "\n",
        "\n",
        "\n",
        "def add_continent_column(df, country_col):\n",
        "    def get_continent(country):\n",
        "        try:\n",
        "            country_code = pc.country_name_to_country_alpha2(country, cn_name_format=\"default\")\n",
        "            continent_code = pc.country_alpha2_to_continent_code(country_code)\n",
        "            continent_name = {\n",
        "                'AF': 'Africa',\n",
        "                'NA': 'North America',\n",
        "                'OC': 'Oceania',\n",
        "                'AN': 'Antarctica',\n",
        "                'AS': 'Asia',\n",
        "                'EU': 'Europe',\n",
        "                'SA': 'South America'\n",
        "            }.get(continent_code, 'Unknown')\n",
        "            return continent_name\n",
        "        except:\n",
        "            return 'Unknown'\n",
        "\n",
        "    df['continent'] = df[country_col].apply(get_continent)\n",
        "    return df"
      ],
      "metadata": {
        "id": "JocBgi9MeVb4"
      },
      "execution_count": 25,
      "outputs": []
    },
    {
      "cell_type": "code",
      "source": [
        "#chmando a função\n",
        "df = add_continent_column(df, 'Country or region')"
      ],
      "metadata": {
        "id": "mxhAMrQcffoB"
      },
      "execution_count": 26,
      "outputs": []
    },
    {
      "cell_type": "markdown",
      "source": [
        "# parte 1\n"
      ],
      "metadata": {
        "id": "k-ntfxwUEsva"
      }
    },
    {
      "cell_type": "code",
      "source": [
        "#descrição da variável score\n",
        "score = df[\"Score\"]\n",
        "\n",
        "# Descrição da variável score\n",
        "media = score.mean()\n",
        "moda = score.mode()\n",
        "mediana = score.median()\n",
        "\n",
        "# medidas de dispersão\n",
        "amplitude = score.max() - score.min()\n",
        "desvio_medio = np.mean(np.abs(score - score.mean()))\n",
        "variancia = score.var(ddof=1)         # ddof=1 → variância amostral\n",
        "desvio_padrao = score.std(ddof=1)\n",
        "coef_variacao = (desvio_padrao / score.mean()) * 100\n",
        "iqr = score.quantile(0.75) - score.quantile(0.25)\n",
        "quartil_1 = score.quantile(0.25)\n",
        "quartil_2 = score.quantile(0.5)\n",
        "quartil_3 = score.quantile(0.75)"
      ],
      "metadata": {
        "id": "xYSg5fwmi5JQ"
      },
      "execution_count": 27,
      "outputs": []
    },
    {
      "cell_type": "markdown",
      "source": [
        "leitura dos coeficientes de disperção"
      ],
      "metadata": {
        "id": "cDCIDm7xm3rR"
      }
    },
    {
      "cell_type": "code",
      "source": [
        "print('\\n média \\n', media,\n",
        "      '\\nmoda\\n',moda,\n",
        "      '\\nmediana\\n',mediana,\n",
        "      '\\namplitude total\\n',amplitude,\n",
        "      '\\ndesvio padrão/n',desvio_medio,\n",
        "      '\\nvariancia\\n',variancia,\n",
        "      '\\ndesvio padrão',desvio_padrao,\n",
        "      '\\ncoef de variação\\n',coef_variacao,\n",
        "      '\\namplitude interquartilica\\n',iqr,\n",
        "      '\\nprimeiro quartil\\n',quartil_1,\n",
        "      '\\nsegundo quartil\\n',quartil_2,\n",
        "      '\\nterceiro quartil\\n',quartil_3)"
      ],
      "metadata": {
        "id": "9QyMLzY0i4_o",
        "colab": {
          "base_uri": "https://localhost:8080/"
        },
        "outputId": "539437c2-33cd-4823-8243-74d9877e20cf"
      },
      "execution_count": 28,
      "outputs": [
        {
          "output_type": "stream",
          "name": "stdout",
          "text": [
            "\n",
            " média \n",
            " 5.407096153846155 \n",
            "moda\n",
            " 0    5.208\n",
            "Name: Score, dtype: float64 \n",
            "mediana\n",
            " 5.3795 \n",
            "amplitude total\n",
            " 4.916 \n",
            "desvio padrão/n 0.9166486686390534 \n",
            "variancia\n",
            " 1.239035842307692 \n",
            "desvio padrão 1.1131198687956712 \n",
            "coef de variação\n",
            " 20.586278422363378 \n",
            "amplitude interquartilica\n",
            " 1.6399999999999997 \n",
            "primeiro quartil\n",
            " 4.5445 \n",
            "segundo quartil\n",
            " 5.3795 \n",
            "terceiro quartil\n",
            " 6.1845\n"
          ]
        }
      ]
    },
    {
      "cell_type": "markdown",
      "source": [
        "construção do histograma e box plot\n",
        "\n"
      ],
      "metadata": {
        "id": "nCUYJlkjpROj"
      }
    },
    {
      "cell_type": "markdown",
      "source": [],
      "metadata": {
        "id": "XyMy9KX7i4r1"
      }
    },
    {
      "cell_type": "code",
      "source": [
        "# Paleta personalizada\n",
        "colors = [\"#ff6b6b\", \"#feca57\", \"#48dbfb\", \"#1dd1a1\", \"#5f27cd\"]\n",
        "background_color = \"#ffffff\"\n",
        "text_color = \"#222f3e\"\n",
        "accent_color = \"#10ac84\"\n",
        "\n",
        "# Função para definir número de classes pelo método de Sturges\n",
        "def sturges_classes(series):\n",
        "    n = len(series)\n",
        "    return int(np.ceil(1 + 3.3 * np.log10(n)))\n",
        "\n",
        "# Etapa 1: Criar classes (agrupamento)\n",
        "k = sturges_classes(score)\n",
        "min_val = score.min()\n",
        "max_val = score.max()\n",
        "bins = np.linspace(min_val, max_val, k + 1)\n",
        "\n",
        "# Etapa 2: Criar tabela de frequência\n",
        "df_freq = pd.DataFrame({\n",
        "    'classe_inferior': bins[:-1],\n",
        "    'classe_superior': bins[1:]\n",
        "})\n",
        "df_freq['amplitude'] = df_freq['classe_superior'] - df_freq['classe_inferior']\n",
        "df_freq['ponto_medio'] = (df_freq['classe_inferior'] + df_freq['classe_superior']) / 2\n",
        "\n",
        "# Contar quantos valores caem em cada intervalo (classe)\n",
        "df_freq['frequencia'] = pd.cut(score, bins=bins, include_lowest=True).value_counts(sort=False).values\n",
        "df_freq['fac'] = df_freq['frequencia'].cumsum()\n",
        "\n",
        "# Etapa 3: Média agrupada\n",
        "media_agrupada = (df_freq['frequencia'] * df_freq['ponto_medio']).sum() / df_freq['frequencia'].sum()\n",
        "\n",
        "# Etapa 4: Mediana agrupada\n",
        "N = df_freq['frequencia'].sum()\n",
        "N2 = N / 2\n",
        "classe_mediana_idx = df_freq[df_freq['fac'] >= N2].index[0]\n",
        "L = df_freq.loc[classe_mediana_idx, 'classe_inferior']\n",
        "F = df_freq.loc[classe_mediana_idx - 1, 'fac'] if classe_mediana_idx > 0 else 0\n",
        "f_m = df_freq.loc[classe_mediana_idx, 'frequencia']\n",
        "h = df_freq.loc[classe_mediana_idx, 'amplitude']\n",
        "mediana_agrupada = L + ((N2 - F) / f_m) * h\n",
        "\n",
        "# Etapa 5: Moda agrupada (Czuber)\n",
        "classe_modal_idx = df_freq['frequencia'].idxmax()\n",
        "f1 = df_freq.loc[classe_modal_idx, 'frequencia']\n",
        "f0 = df_freq.loc[classe_modal_idx - 1, 'frequencia'] if classe_modal_idx > 0 else 0\n",
        "f2 = df_freq.loc[classe_modal_idx + 1, 'frequencia'] if classe_modal_idx < len(df_freq) - 1 else 0\n",
        "L_modal = df_freq.loc[classe_modal_idx, 'classe_inferior']\n",
        "h_modal = df_freq.loc[classe_modal_idx, 'amplitude']\n",
        "moda_agrupada = L_modal + ((f1 - f0) / ((f1 - f0) + (f1 - f2))) * h_modal if (f1 - f0 + f1 - f2) != 0 else np.nan\n",
        "\n",
        "# Etapa 6: Plotar o histograma com linhas das medidas\n",
        "plt.figure(figsize=(10, 5))\n",
        "sns.set_style(\"whitegrid\", {\"axes.facecolor\": background_color})\n",
        "sns.set_palette(sns.color_palette(colors))\n",
        "\n",
        "# Histograma com os mesmos bins usados no agrupamento\n",
        "sns.histplot(score, bins=bins, edgecolor='black', alpha=0.8)\n",
        "\n",
        "# Linhas verticais das medidas agrupadas\n",
        "plt.axvline(media_agrupada, color='#ff6b6b', linestyle='--', linewidth=2, label=f'Média agrupada: {media_agrupada:.2f}')\n",
        "plt.axvline(mediana_agrupada, color='#1dd1a1', linestyle='-.', linewidth=2, label=f'Mediana agrupada: {mediana_agrupada:.2f}')\n",
        "if not np.isnan(moda_agrupada):\n",
        "    plt.axvline(moda_agrupada, color='#5f27cd', linestyle=':', linewidth=2, label=f'Moda agrupada: {moda_agrupada:.2f}')\n",
        "\n",
        "# Estilo e legendas\n",
        "plt.title(f'Histograma da Felicidade (Score) com Tendência Central (Dados Agrupados)', color=text_color, fontsize=14)\n",
        "plt.xlabel('Score de Felicidade', color=accent_color)\n",
        "plt.ylabel('Frequência', color=accent_color)\n",
        "plt.xticks(color=text_color)\n",
        "plt.yticks(color=text_color)\n",
        "plt.legend()\n",
        "plt.gca().spines['top'].set_visible(False)\n",
        "plt.gca().spines['right'].set_visible(False)\n",
        "plt.gca().spines['left'].set_color(text_color)\n",
        "plt.gca().spines['bottom'].set_color(text_color)\n",
        "plt.grid(True, axis='y', linestyle='--', alpha=0.7)\n",
        "plt.gcf().set_facecolor(background_color)\n",
        "plt.show()"
      ],
      "metadata": {
        "id": "WAro806SqpNj",
        "colab": {
          "base_uri": "https://localhost:8080/",
          "height": 489
        },
        "outputId": "148300db-d5cf-4e58-b4e7-64de1282c8e8",
        "collapsed": true
      },
      "execution_count": 29,
      "outputs": [
        {
          "output_type": "display_data",
          "data": {
            "text/plain": [
              "<Figure size 1000x500 with 1 Axes>"
            ],
            "image/png": "[encoded data removed]"
          },
          "metadata": {}
        }
      ]
    },
    {
      "cell_type": "markdown",
      "source": [
        "boxplot"
      ],
      "metadata": {
        "id": "HB8zNxH77dvM"
      }
    },
    {
      "cell_type": "code",
      "source": [
        "\n",
        "# determinando as medidas para o boxplot\n",
        "#min\n",
        "min = min(score)\n",
        "#max\n",
        "max = max(score)\n",
        "#q1\n",
        "q1 = score.quantile(0.25)\n",
        "#q2\n",
        "q2 = score.quantile(0.5)\n",
        "#q3\n",
        "q3 = score.quantile(0.75)\n",
        "\n",
        ""
      ],
      "metadata": {
        "id": "x9XqRhpN7dem"
      },
      "execution_count": 31,
      "outputs": []
    },
    {
      "cell_type": "code",
      "source": [
        "\n",
        "\n",
        "\n",
        "fig, ax = plt.subplots()\n",
        "#gráfico propriamente dito\n",
        "plt.boxplot(score, vert = False)\n",
        "plt.title(\"Boxplot dos Dados\")\n",
        "plt.ylabel(\"Valor\")\n",
        "plt.xlabel(\"score\")\n",
        "\n",
        "#mudando a cor do plano de fundo\n",
        "ax.set_facecolor('#f0f0f0')\n",
        "fig.patch.set_facecolor('#d9f2d9')  # fundo da figura (imagem toda)\n",
        "\n",
        "#valores dos quantis\n",
        "plt.text(q1, 1.1, f\"Q1 = {q1}\", ha='center', va='bottom', fontsize=10, color='blue')\n",
        "plt.text(q2, 1.2, f\"Q2 = {q2}\", ha='center', va='bottom', fontsize=10, color='green')\n",
        "plt.text(q3, 1.3, f\"Q3 = {q3}\", ha='center', va='bottom', fontsize=10, color='red')\n",
        "# linhas de medida da mediana\n",
        "ax.axvline(q1, color='red', linestyle='--', label=f'Mediana = {mediana}')\n",
        "ax.axvline(q2, color='blue', linestyle='--', label=f'Mediana = {mediana}')\n",
        "ax.axvline(q3, color='green', linestyle='--', label=f'Mediana = {mediana}')\n",
        "\n",
        "plt.grid(False)\n",
        "plt.show()\n",
        "\n",
        "\n",
        "#respondendo a pergunta da questão a distribuição é bem simetrica ou de assimetria muito fraca. devido ao espaçamento igual dos bigodes, a centralizaçãod da mediana"
      ],
      "metadata": {
        "colab": {
          "base_uri": "https://localhost:8080/",
          "height": 472
        },
        "id": "OILrc-Gn9M83",
        "outputId": "14a39920-193d-4ca9-a7a0-c1a8ba8bba2f"
      },
      "execution_count": 43,
      "outputs": [
        {
          "output_type": "display_data",
          "data": {
            "text/plain": [
              "<Figure size 640x480 with 1 Axes>"
            ],
            "image/png": "[encoded data removed]"
          },
          "metadata": {}
        }
      ]
    },
    {
      "cell_type": "markdown",
      "source": [
        "coeficnientes de assimetria e curtose\n"
      ],
      "metadata": {
        "id": "h9WAV8ZuH8na"
      }
    },
    {
      "cell_type": "markdown",
      "source": [],
      "metadata": {
        "id": "Aq4142ayI5rj"
      }
    },
    {
      "cell_type": "code",
      "source": [
        "#como não estou trabalhando com dados continuos não usarei o primeiro coeficinte de pearson pois uma moda é pouco representativa nesse caso\n",
        "#optarei por usar o metodod e skewness que é presente nas bibliotecas pandas e scipy\n",
        "cskn = pd.Series.skew(score)\n",
        "cskn\n",
        "# como suspeito a distribuição do score é fracamnte assimetrica a direita, pois seu valor é tão perto de zero.\n",
        "# se torna até quase impercepstiel no gráfico\n",
        "# o coeficiente de skeweness confima a suspeita inicial de assimetria vista na diferença da média, e mediana.\n"
      ],
      "metadata": {
        "colab": {
          "base_uri": "https://localhost:8080/"
        },
        "id": "Q3h6mB619Mwn",
        "outputId": "0a1a3257-6771-48db-d9ba-57d4212fbfe9"
      },
      "execution_count": 47,
      "outputs": [
        {
          "output_type": "execute_result",
          "data": {
            "text/plain": [
              "np.float64(0.01144994949132211)"
            ]
          },
          "metadata": {},
          "execution_count": 47
        }
      ]
    },
    {
      "cell_type": "markdown",
      "source": [
        "# parte 2"
      ],
      "metadata": {
        "id": "1L3HLF97EZo6"
      }
    },
    {
      "cell_type": "markdown",
      "source": [
        "# parte 3"
      ],
      "metadata": {
        "id": "7r-QcOI_Ekgp"
      }
    },
    {
      "cell_type": "markdown",
      "source": [
        "8 Matriz de Correlação de Pearson\n"
      ],
      "metadata": {
        "id": "u0wZ4R1pEneS"
      }
    },
    {
      "cell_type": "code",
      "source": [
        "from matplotlib.colors import LinearSegmentedColormap\n",
        "\n",
        "colors = [\"#fd9091\", \"#feb369\", \"#76e1e9\", \"#62d8ba\", \"#b497e5\"]\n",
        "background_color = \"#ffffff\"\n",
        "text_color = \"#000000\"\n",
        "accent_color = \"#2c6e74\"\n",
        "\n",
        "custom_cmap = LinearSegmentedColormap.from_list(\"custom_cmap\", colors)"
      ],
      "metadata": {
        "id": "NWleosaeGSeB"
      },
      "execution_count": null,
      "outputs": []
    },
    {
      "cell_type": "code",
      "source": [
        "numeric_cols = df.select_dtypes(include=np.number)\n",
        "corr_matrix = numeric_cols.corr(method='pearson')\n",
        "plt.figure(figsize=(10,8))\n",
        "sns.set_style(\"white\")\n",
        "heatmap = sns.heatmap(\n",
        "    corr_matrix,\n",
        "    annot = True,\n",
        "    fmt = \".2f\",\n",
        "    cmap = custom_cmap,\n",
        "    linewidths = 0.5,\n",
        "    linecolor = background_color,\n",
        "    cbar_kws = {\"shrink\": 0.8},\n",
        "    annot_kws = {\"color\": text_color}\n",
        ")\n",
        "\n",
        "plt.title(\"Matriz de Correlação\", fontsize = 16, color = accent_color)\n",
        "plt.xticks(rotation = 45, ha = \"right\", color = text_color)\n",
        "plt.yticks(rotation = 0, color = text_color)\n",
        "plt.gcf().patch.set_facecolor(background_color)\n",
        "plt.tight_layout()\n",
        "plt.show()"
      ],
      "metadata": {
        "id": "3kyaiizGEmvU"
      },
      "execution_count": null,
      "outputs": []
    },
    {
      "cell_type": "markdown",
      "source": [
        "9 Generosidade média por continente"
      ],
      "metadata": {
        "id": "T22DS5W5QAcT"
      }
    },
    {
      "cell_type": "code",
      "source": [
        "n_cores = df[df['continent'] != 'Unknown']['continent'].nunique()\n",
        "\n",
        "from matplotlib.colors import LinearSegmentedColormap\n",
        "from seaborn import color_palette\n",
        "\n",
        "cores_base = [\"#ff6b6b\", \"#feca57\", \"#48dbfb\", \"#1dd1a1\", \"#5f27cd\"]\n",
        "cmap = LinearSegmentedColormap.from_list(\"custom_cmap\", cores_base)\n",
        "colors = [cmap(i / (n_cores - 1)) for i in range(n_cores)]"
      ],
      "metadata": {
        "id": "hNe7WtdvdWjn"
      },
      "execution_count": null,
      "outputs": []
    },
    {
      "cell_type": "code",
      "source": [
        "plt.figure(figsize=(10, 6))\n",
        "sns.boxplot(\n",
        "    data=df[df['continent'] != 'Unknown'],\n",
        "    x = 'continent',\n",
        "    y = 'Generosity',\n",
        "    palette = colors,\n",
        "    legend = False,\n",
        "    hue = 'continent'\n",
        ")\n",
        "plt.title('Distribuição da Generosidade por Continente', color=accent_color)\n",
        "plt.xlabel('Continente', color=text_color)\n",
        "plt.ylabel('Generosidade', color=text_color)\n",
        "plt.xticks(rotation=45, color=text_color)\n",
        "plt.yticks(color=text_color)\n",
        "plt.gcf().patch.set_facecolor(background_color)\n",
        "plt.show()"
      ],
      "metadata": {
        "id": "1cD6__Ara4FF"
      },
      "execution_count": null,
      "outputs": []
    },
    {
      "cell_type": "code",
      "source": [
        "df_valid = df[df['continent'] != 'Unknown']\n",
        "\n",
        "# calculador de médias\n",
        "media_generosidade = df_valid.groupby('continent')['Generosity'].mean().sort_values(ascending=False)\n",
        "\n",
        "# gráfico de barras\n",
        "plt.figure(figsize=(10, 6))\n",
        "sns.barplot(\n",
        "    x=media_generosidade.index,\n",
        "    y=media_generosidade.values,\n",
        "    hue=media_generosidade.index,\n",
        "    dodge=False,\n",
        "    palette=colors\n",
        ")\n",
        "plt.title('Média de Generosidade por Continente', fontsize=14, color=text_color)\n",
        "plt.xlabel('Continente', fontsize=12, color=text_color)\n",
        "plt.ylabel('Média de Generosidade', fontsize=12, color=text_color)\n",
        "plt.xticks(rotation=45)\n",
        "plt.gca().set_facecolor(background_color)\n",
        "plt.gcf().patch.set_facecolor(background_color)\n",
        "plt.tick_params(colors=text_color)\n",
        "plt.title('Comparação das Médias de Generosidade por Continente', fontsize=16, color=text_color)\n",
        "\n",
        "plt.show()"
      ],
      "metadata": {
        "id": "nukqW-q2B6On"
      },
      "execution_count": null,
      "outputs": []
    },
    {
      "cell_type": "markdown",
      "source": [
        "Teste ANOVA"
      ],
      "metadata": {
        "id": "ZV9gLvpg_mK1"
      }
    },
    {
      "cell_type": "code",
      "source": [
        "from scipy.stats import f_oneway\n",
        "\n",
        "# filtrador de continentes uteis\n",
        "df_valid = df[df['continent'] != 'Unknown']\n",
        "\n",
        "# agupador dos valores de generosidade por continente\n",
        "grouped = [group['Generosity'].values for name, group in df_valid.groupby('continent')]\n",
        "\n",
        "# teste anova (analise de variancia)\n",
        "f_stat, p_value = f_oneway(*grouped)\n",
        "print(f\"Estatística F: {f_stat:.4f}\")\n",
        "print(f\"p-valor: {p_value:.4f}\")\n",
        "\n",
        "if p_value < 0.05:\n",
        "    print(\"→ Há diferença estatisticamente significativa na generosidade entre os continentes.\")\n",
        "else:\n",
        "    print(\"→ Não há diferença estatisticamente significativa na generosidade entre os continentes.\")\n"
      ],
      "metadata": {
        "id": "czOlaam9_ibu"
      },
      "execution_count": null,
      "outputs": []
    },
    {
      "cell_type": "markdown",
      "source": [
        "10 Estatísticas descritivas da liberdade por categoria de Score"
      ],
      "metadata": {
        "id": "50Q6_1emAzSl"
      }
    },
    {
      "cell_type": "code",
      "source": [
        "freedom_stats = df.groupby('Score_Category')['Freedom to make life choices'].describe()\n",
        "print(freedom_stats)\n"
      ],
      "metadata": {
        "id": "luldfwn7Ay9O"
      },
      "execution_count": null,
      "outputs": []
    }
  ]
}