{
  "nbformat": 4,
  "nbformat_minor": 0,
  "metadata": {
    "colab": {
      "provenance": [],
      "mount_file_id": "10vUbHixk9-hyMXNMEGXvYcrLKHCCBwnt",
      "authorship_tag": "ABX9TyO7f9cBToWiqMYH02Sm92Hg",
      "include_colab_link": true
    },
    "kernelspec": {
      "name": "python3",
      "display_name": "Python 3"
    },
    "language_info": {
      "name": "python"
    }
  },
  "cells": [
    {
      "cell_type": "markdown",
      "metadata": {
        "id": "view-in-github",
        "colab_type": "text"
      },
      "source": [
        "<a href=\"https://colab.research.google.com/github/kevin-oliveira178/Felicidade_Mudial/blob/main/Felicidade_mundial.ipynb\" target=\"_parent\"><img src=\"https://colab.research.google.com/assets/colab-badge.svg\" alt=\"Open In Colab\"/></a>"
      ]
    },
    {
      "cell_type": "markdown",
      "source": [
        "# importação de bibliotecas"
      ],
      "metadata": {
        "id": "bItHjOUrE1Ms"
      }
    },
    {
      "cell_type": "code",
      "source": [
        "import pandas as pd\n",
        "import numpy as np\n",
        "import matplotlib.pyplot as plt\n",
        "import seaborn as sns\n",
        "\n"
      ],
      "metadata": {
        "id": "P0zmC9rJFmVN"
      },
      "execution_count": 4,
      "outputs": []
    },
    {
      "cell_type": "markdown",
      "source": [
        "# tratamento dos dados"
      ],
      "metadata": {
        "id": "VTcf5QvaDwXM"
      }
    },
    {
      "cell_type": "markdown",
      "source": [],
      "metadata": {
        "id": "tpbhJfUND0Cp"
      }
    },
    {
      "cell_type": "code",
      "execution_count": 8,
      "metadata": {
        "colab": {
          "base_uri": "https://localhost:8080/"
        },
        "id": "2xLaPljSCoux",
        "outputId": "b6d39804-ee7f-4e4f-85b6-522b814adf39"
      },
      "outputs": [
        {
          "output_type": "execute_result",
          "data": {
            "text/plain": [
              "['Overall rank',\n",
              " 'Country or region',\n",
              " 'Score',\n",
              " 'GDP per capita',\n",
              " 'Social support',\n",
              " 'Healthy life expectancy',\n",
              " 'Freedom to make life choices',\n",
              " 'Generosity',\n",
              " 'Perceptions of corruption']"
            ]
          },
          "metadata": {},
          "execution_count": 8
        }
      ],
      "source": [
        "df = pd.read_csv('/2019.csv')\n",
        "colunas = list(df.columns)\n",
        "colunas"
      ]
    },
    {
      "cell_type": "code",
      "source": [
        "#criação das colunas adicionais"
      ],
      "metadata": {
        "id": "XCd01BPTD3Om"
      },
      "execution_count": null,
      "outputs": []
    },
    {
      "cell_type": "markdown",
      "source": [
        "# parte 1\n"
      ],
      "metadata": {
        "id": "k-ntfxwUEsva"
      }
    },
    {
      "cell_type": "markdown",
      "source": [
        "# parte 2"
      ],
      "metadata": {
        "id": "1L3HLF97EZo6"
      }
    },
    {
      "cell_type": "markdown",
      "source": [
        "# parte 3"
      ],
      "metadata": {
        "id": "7r-QcOI_Ekgp"
      }
    }
  ]
}